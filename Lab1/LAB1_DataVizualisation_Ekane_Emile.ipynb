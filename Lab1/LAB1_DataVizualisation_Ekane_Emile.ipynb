{
  "nbformat": 4,
  "nbformat_minor": 2,
  "metadata": {
    "colab": {
      "name": "LAB1_DataVizualisation_Fares_Fadili",
      "provenance": []
    },
    "kernelspec": {
      "name": "python3",
      "display_name": "Python 3.7.9 64-bit"
    },
    "language_info": {
      "name": "python",
      "version": "3.7.9"
    },
    "interpreter": {
      "hash": "e2fb31f127fed1e79f709faf34890f85681c06e7e30d28a328e5c7500cdf6725"
    }
  },
  "cells": [
    {
      "cell_type": "markdown",
      "source": [
        "**LAB 1 Data Vizualisation M1-APP-BD**\r\n",
        "\r\n",
        "**Ekane Emile**\r\n",
        "\r\n"
      ],
      "metadata": {
        "id": "7_WGV6vfrhcy"
      }
    },
    {
      "cell_type": "code",
      "execution_count": 5,
      "source": [
        "import pandas as pd\r\n",
        "import seaborn as sns\r\n",
        "import numpy as np\r\n",
        "import matplotlib.pyplot as plt"
      ],
      "outputs": [],
      "metadata": {
        "id": "H5gI15H9f3vm"
      }
    },
    {
      "cell_type": "code",
      "execution_count": 7,
      "source": [
        "file_path =\"./uber-raw-data-apr14.csv\""
      ],
      "outputs": [],
      "metadata": {
        "id": "-18gDy9Fgick"
      }
    },
    {
      "cell_type": "code",
      "execution_count": 8,
      "source": [
        "df = pd.read_csv(file_path, delimiter = ',')"
      ],
      "outputs": [],
      "metadata": {
        "id": "MPX6eF5EmXQ_"
      }
    },
    {
      "cell_type": "code",
      "execution_count": 9,
      "source": [
        "df.head()"
      ],
      "outputs": [
        {
          "output_type": "execute_result",
          "data": {
            "text/html": [
              "<div>\n",
              "<style scoped>\n",
              "    .dataframe tbody tr th:only-of-type {\n",
              "        vertical-align: middle;\n",
              "    }\n",
              "\n",
              "    .dataframe tbody tr th {\n",
              "        vertical-align: top;\n",
              "    }\n",
              "\n",
              "    .dataframe thead th {\n",
              "        text-align: right;\n",
              "    }\n",
              "</style>\n",
              "<table border=\"1\" class=\"dataframe\">\n",
              "  <thead>\n",
              "    <tr style=\"text-align: right;\">\n",
              "      <th></th>\n",
              "      <th>Date/Time</th>\n",
              "      <th>Lat</th>\n",
              "      <th>Lon</th>\n",
              "      <th>Base</th>\n",
              "    </tr>\n",
              "  </thead>\n",
              "  <tbody>\n",
              "    <tr>\n",
              "      <th>0</th>\n",
              "      <td>4/1/2014 0:11:00</td>\n",
              "      <td>40.7690</td>\n",
              "      <td>-73.9549</td>\n",
              "      <td>B02512</td>\n",
              "    </tr>\n",
              "    <tr>\n",
              "      <th>1</th>\n",
              "      <td>4/1/2014 0:17:00</td>\n",
              "      <td>40.7267</td>\n",
              "      <td>-74.0345</td>\n",
              "      <td>B02512</td>\n",
              "    </tr>\n",
              "    <tr>\n",
              "      <th>2</th>\n",
              "      <td>4/1/2014 0:21:00</td>\n",
              "      <td>40.7316</td>\n",
              "      <td>-73.9873</td>\n",
              "      <td>B02512</td>\n",
              "    </tr>\n",
              "    <tr>\n",
              "      <th>3</th>\n",
              "      <td>4/1/2014 0:28:00</td>\n",
              "      <td>40.7588</td>\n",
              "      <td>-73.9776</td>\n",
              "      <td>B02512</td>\n",
              "    </tr>\n",
              "    <tr>\n",
              "      <th>4</th>\n",
              "      <td>4/1/2014 0:33:00</td>\n",
              "      <td>40.7594</td>\n",
              "      <td>-73.9722</td>\n",
              "      <td>B02512</td>\n",
              "    </tr>\n",
              "  </tbody>\n",
              "</table>\n",
              "</div>"
            ],
            "text/plain": [
              "          Date/Time      Lat      Lon    Base\n",
              "0  4/1/2014 0:11:00  40.7690 -73.9549  B02512\n",
              "1  4/1/2014 0:17:00  40.7267 -74.0345  B02512\n",
              "2  4/1/2014 0:21:00  40.7316 -73.9873  B02512\n",
              "3  4/1/2014 0:28:00  40.7588 -73.9776  B02512\n",
              "4  4/1/2014 0:33:00  40.7594 -73.9722  B02512"
            ]
          },
          "metadata": {},
          "execution_count": 9
        }
      ],
      "metadata": {
        "colab": {
          "base_uri": "https://localhost:8080/",
          "height": 204
        },
        "id": "QrkwvScgm0ju",
        "outputId": "ee841f61-de6d-4cde-8db0-93979a340008"
      }
    },
    {
      "cell_type": "code",
      "execution_count": 12,
      "source": [
        "df.dtypes"
      ],
      "outputs": [
        {
          "output_type": "execute_result",
          "data": {
            "text/plain": [
              "Date/Time     object\n",
              "Lat          float64\n",
              "Lon          float64\n",
              "Base          object\n",
              "dtype: object"
            ]
          },
          "metadata": {},
          "execution_count": 12
        }
      ],
      "metadata": {
        "colab": {
          "base_uri": "https://localhost:8080/"
        },
        "id": "6Bs5Mvq-nIXY",
        "outputId": "ff8ac70f-9c07-4de7-d782-67f1d533af40"
      }
    },
    {
      "cell_type": "code",
      "execution_count": 11,
      "source": [
        "df.describe(include='all')"
      ],
      "outputs": [
        {
          "output_type": "execute_result",
          "data": {
            "text/html": [
              "<div>\n",
              "<style scoped>\n",
              "    .dataframe tbody tr th:only-of-type {\n",
              "        vertical-align: middle;\n",
              "    }\n",
              "\n",
              "    .dataframe tbody tr th {\n",
              "        vertical-align: top;\n",
              "    }\n",
              "\n",
              "    .dataframe thead th {\n",
              "        text-align: right;\n",
              "    }\n",
              "</style>\n",
              "<table border=\"1\" class=\"dataframe\">\n",
              "  <thead>\n",
              "    <tr style=\"text-align: right;\">\n",
              "      <th></th>\n",
              "      <th>Date/Time</th>\n",
              "      <th>Lat</th>\n",
              "      <th>Lon</th>\n",
              "      <th>Base</th>\n",
              "    </tr>\n",
              "  </thead>\n",
              "  <tbody>\n",
              "    <tr>\n",
              "      <th>count</th>\n",
              "      <td>564516</td>\n",
              "      <td>564516.000000</td>\n",
              "      <td>564516.000000</td>\n",
              "      <td>564516</td>\n",
              "    </tr>\n",
              "    <tr>\n",
              "      <th>unique</th>\n",
              "      <td>41999</td>\n",
              "      <td>NaN</td>\n",
              "      <td>NaN</td>\n",
              "      <td>5</td>\n",
              "    </tr>\n",
              "    <tr>\n",
              "      <th>top</th>\n",
              "      <td>4/7/2014 20:21:00</td>\n",
              "      <td>NaN</td>\n",
              "      <td>NaN</td>\n",
              "      <td>B02682</td>\n",
              "    </tr>\n",
              "    <tr>\n",
              "      <th>freq</th>\n",
              "      <td>97</td>\n",
              "      <td>NaN</td>\n",
              "      <td>NaN</td>\n",
              "      <td>227808</td>\n",
              "    </tr>\n",
              "    <tr>\n",
              "      <th>mean</th>\n",
              "      <td>NaN</td>\n",
              "      <td>40.740005</td>\n",
              "      <td>-73.976817</td>\n",
              "      <td>NaN</td>\n",
              "    </tr>\n",
              "    <tr>\n",
              "      <th>std</th>\n",
              "      <td>NaN</td>\n",
              "      <td>0.036083</td>\n",
              "      <td>0.050426</td>\n",
              "      <td>NaN</td>\n",
              "    </tr>\n",
              "    <tr>\n",
              "      <th>min</th>\n",
              "      <td>NaN</td>\n",
              "      <td>40.072900</td>\n",
              "      <td>-74.773300</td>\n",
              "      <td>NaN</td>\n",
              "    </tr>\n",
              "    <tr>\n",
              "      <th>25%</th>\n",
              "      <td>NaN</td>\n",
              "      <td>40.722500</td>\n",
              "      <td>-73.997700</td>\n",
              "      <td>NaN</td>\n",
              "    </tr>\n",
              "    <tr>\n",
              "      <th>50%</th>\n",
              "      <td>NaN</td>\n",
              "      <td>40.742500</td>\n",
              "      <td>-73.984800</td>\n",
              "      <td>NaN</td>\n",
              "    </tr>\n",
              "    <tr>\n",
              "      <th>75%</th>\n",
              "      <td>NaN</td>\n",
              "      <td>40.760700</td>\n",
              "      <td>-73.970000</td>\n",
              "      <td>NaN</td>\n",
              "    </tr>\n",
              "    <tr>\n",
              "      <th>max</th>\n",
              "      <td>NaN</td>\n",
              "      <td>42.116600</td>\n",
              "      <td>-72.066600</td>\n",
              "      <td>NaN</td>\n",
              "    </tr>\n",
              "  </tbody>\n",
              "</table>\n",
              "</div>"
            ],
            "text/plain": [
              "                Date/Time            Lat            Lon    Base\n",
              "count              564516  564516.000000  564516.000000  564516\n",
              "unique              41999            NaN            NaN       5\n",
              "top     4/7/2014 20:21:00            NaN            NaN  B02682\n",
              "freq                   97            NaN            NaN  227808\n",
              "mean                  NaN      40.740005     -73.976817     NaN\n",
              "std                   NaN       0.036083       0.050426     NaN\n",
              "min                   NaN      40.072900     -74.773300     NaN\n",
              "25%                   NaN      40.722500     -73.997700     NaN\n",
              "50%                   NaN      40.742500     -73.984800     NaN\n",
              "75%                   NaN      40.760700     -73.970000     NaN\n",
              "max                   NaN      42.116600     -72.066600     NaN"
            ]
          },
          "metadata": {},
          "execution_count": 11
        }
      ],
      "metadata": {}
    },
    {
      "cell_type": "code",
      "execution_count": 17,
      "source": [
        "dt = \"6/09/2021 22:34:01\"\n",
        "dfT = pd.to_datetime(dt)\n",
        "dfT.day_name)"
      ],
      "outputs": [
        {
          "output_type": "execute_result",
          "data": {
            "text/plain": [
              "<function Timestamp.day_name>"
            ]
          },
          "metadata": {},
          "execution_count": 17
        }
      ],
      "metadata": {}
    },
    {
      "cell_type": "markdown",
      "source": [
        "Question 1"
      ],
      "metadata": {
        "id": "FiJlPf8to18g"
      }
    },
    {
      "cell_type": "code",
      "execution_count": 14,
      "source": [
        "df['Date/Time'] = pd.to_datetime(df['Date/Time'])\n",
        "print(df)"
      ],
      "outputs": [
        {
          "output_type": "stream",
          "name": "stdout",
          "text": [
            "                 Date/Time      Lat      Lon    Base\n",
            "0      2014-04-01 00:11:00  40.7690 -73.9549  B02512\n",
            "1      2014-04-01 00:17:00  40.7267 -74.0345  B02512\n",
            "2      2014-04-01 00:21:00  40.7316 -73.9873  B02512\n",
            "3      2014-04-01 00:28:00  40.7588 -73.9776  B02512\n",
            "4      2014-04-01 00:33:00  40.7594 -73.9722  B02512\n",
            "...                    ...      ...      ...     ...\n",
            "564511 2014-04-30 23:22:00  40.7640 -73.9744  B02764\n",
            "564512 2014-04-30 23:26:00  40.7629 -73.9672  B02764\n",
            "564513 2014-04-30 23:31:00  40.7443 -73.9889  B02764\n",
            "564514 2014-04-30 23:32:00  40.6756 -73.9405  B02764\n",
            "564515 2014-04-30 23:48:00  40.6880 -73.9608  B02764\n",
            "\n",
            "[564516 rows x 4 columns]\n"
          ]
        }
      ],
      "metadata": {
        "colab": {
          "base_uri": "https://localhost:8080/"
        },
        "id": "OzPISu0knRLO",
        "outputId": "a4f4039c-7666-4340-e6dd-21df78790f6a"
      }
    },
    {
      "cell_type": "markdown",
      "source": [
        "Question 2"
      ],
      "metadata": {
        "id": "2gG1Mp2to9S7"
      }
    },
    {
      "cell_type": "code",
      "execution_count": 7,
      "source": [
        "def get_dom(dt):\n",
        "  return dt.day\n",
        "df['dom']=df['Date/Time'].map(get_dom);"
      ],
      "outputs": [],
      "metadata": {
        "id": "63SC82Z8pQa7"
      }
    },
    {
      "cell_type": "markdown",
      "source": [
        "Question 3"
      ],
      "metadata": {
        "id": "ETvwBO77pTtF"
      }
    },
    {
      "cell_type": "code",
      "execution_count": 8,
      "source": [
        "def get_weekday(dt):\n",
        "  return dt.weekday()\n",
        "df['weekday']=df['Date/Time'].map(get_weekday);"
      ],
      "outputs": [],
      "metadata": {
        "id": "WxcWDKh8pXLv"
      }
    },
    {
      "cell_type": "markdown",
      "source": [
        "Question 4"
      ],
      "metadata": {
        "id": "Ol5gyrwQppnm"
      }
    },
    {
      "cell_type": "code",
      "execution_count": 9,
      "source": [
        "df['day'] = df['Date/Time'].map(get_dom)"
      ],
      "outputs": [],
      "metadata": {
        "id": "01N6R7KQpr7_"
      }
    },
    {
      "cell_type": "markdown",
      "source": [
        "Question 5\n",
        "\n"
      ],
      "metadata": {
        "id": "uu-0ufbbpy7v"
      }
    },
    {
      "cell_type": "code",
      "execution_count": 10,
      "source": [
        "def get_hour(dt):\n",
        "    return dt.hour\n",
        "\n",
        "df['hour'] = df['Date/Time'].map(get_hour)"
      ],
      "outputs": [],
      "metadata": {
        "id": "G-C1ajWdp4L8"
      }
    },
    {
      "cell_type": "markdown",
      "source": [
        "Question 6"
      ],
      "metadata": {
        "id": "s86i5_BbqDI2"
      }
    },
    {
      "cell_type": "code",
      "execution_count": 11,
      "source": [
        "df.hist( bins = 30, rwidth=0.8, range=(0.5, 30.5));"
      ],
      "outputs": [
        {
          "output_type": "display_data",
          "data": {
            "image/png": "[encoded data removed]",
            "text/plain": [
              "<Figure size 432x288 with 6 Axes>"
            ]
          },
          "metadata": {
            "needs_background": "light"
          }
        }
      ],
      "metadata": {
        "colab": {
          "base_uri": "https://localhost:8080/"
        },
        "id": "-TeT8FgdqFD2",
        "outputId": "a3591528-9cce-470c-ed2d-89de61941aad"
      }
    },
    {
      "cell_type": "markdown",
      "source": [
        "Question 7"
      ],
      "metadata": {
        "id": "tLaonzhdqNKq"
      }
    },
    {
      "cell_type": "code",
      "execution_count": 12,
      "source": [
        "df[[\"dom\"]].plot.hist(bins = 30, rwidth=0.8, range=(0.5,30.5), figsize = (30,15) , title = \"Frequency by DoM - Uber - April 2014\")"
      ],
      "outputs": [
        {
          "output_type": "execute_result",
          "data": {
            "text/plain": [
              "<matplotlib.axes._subplots.AxesSubplot at 0x7f1bf9ad5d90>"
            ]
          },
          "metadata": {},
          "execution_count": 12
        },
        {
          "output_type": "display_data",
          "data": {
            "image/png": "[encoded data removed]",
            "text/plain": [
              "<Figure size 2160x1080 with 1 Axes>"
            ]
          },
          "metadata": {
            "needs_background": "light"
          }
        }
      ],
      "metadata": {
        "colab": {
          "base_uri": "https://localhost:8080/"
        },
        "id": "Rz3FekfJqPnR",
        "outputId": "947afa0b-f51a-4050-f214-edab29427f4e"
      }
    },
    {
      "cell_type": "markdown",
      "source": [
        "Question 8"
      ],
      "metadata": {
        "id": "TcXaCuU6qXFj"
      }
    },
    {
      "cell_type": "code",
      "execution_count": 13,
      "source": [
        "def count_rows(rows): return len(rows)"
      ],
      "outputs": [],
      "metadata": {
        "id": "PjKa0avkqYcR"
      }
    },
    {
      "cell_type": "markdown",
      "source": [
        "Question 9"
      ],
      "metadata": {
        "id": "l7pjBGMYqcoP"
      }
    },
    {
      "cell_type": "code",
      "execution_count": 14,
      "source": [
        "day_by_date = df.groupby('day').apply(count_rows)\n",
        "day_by_date\n",
        "plt.plot(day_by_date)"
      ],
      "outputs": [
        {
          "output_type": "execute_result",
          "data": {
            "text/plain": [
              "[<matplotlib.lines.Line2D at 0x7f1bf957b990>]"
            ]
          },
          "metadata": {},
          "execution_count": 14
        },
        {
          "output_type": "display_data",
          "data": {
            "image/png": "[encoded data removed]",
            "text/plain": [
              "<Figure size 432x288 with 1 Axes>"
            ]
          },
          "metadata": {
            "needs_background": "light"
          }
        }
      ],
      "metadata": {
        "colab": {
          "base_uri": "https://localhost:8080/"
        },
        "id": "tBi1_0ZJqdsr",
        "outputId": "67eef261-753e-477c-8f3a-daf7fcc37ca0"
      }
    },
    {
      "cell_type": "markdown",
      "source": [
        "Question 10"
      ],
      "metadata": {
        "id": "rxAh12PAqp-K"
      }
    },
    {
      "cell_type": "code",
      "execution_count": 15,
      "source": [
        "df_sorted=df.sort_values(by = ['day'])\n",
        "plt.bar(range(1, 31), day_by_date.sort_values())"
      ],
      "outputs": [
        {
          "output_type": "execute_result",
          "data": {
            "text/plain": [
              "<BarContainer object of 30 artists>"
            ]
          },
          "metadata": {},
          "execution_count": 15
        },
        {
          "output_type": "display_data",
          "data": {
            "image/png": "[encoded data removed]",
            "text/plain": [
              "<Figure size 432x288 with 1 Axes>"
            ]
          },
          "metadata": {
            "needs_background": "light"
          }
        }
      ],
      "metadata": {
        "colab": {
          "base_uri": "https://localhost:8080/"
        },
        "id": "Nno07VeIqsvv",
        "outputId": "c17efd81-60eb-41b1-f7b4-32b3e151e804"
      }
    },
    {
      "cell_type": "markdown",
      "source": [
        "Question 11"
      ],
      "metadata": {
        "id": "shz8tfW2q4ug"
      }
    },
    {
      "cell_type": "code",
      "execution_count": 16,
      "source": [
        "plt.hist(df.hour, bins = 24, rwidth = 0.8, range = (0.5,24))"
      ],
      "outputs": [
        {
          "output_type": "execute_result",
          "data": {
            "text/plain": [
              "(array([ 7769.,  4935.,  5040.,  6095.,  9476., 18498., 24924., 22843.,\n",
              "        17939., 17865., 18774., 19425., 22603., 27190., 35324., 42003.,\n",
              "        45475., 43003., 38923., 36244., 36964., 30645., 20649.,     0.]),\n",
              " array([ 0.5       ,  1.47916667,  2.45833333,  3.4375    ,  4.41666667,\n",
              "         5.39583333,  6.375     ,  7.35416667,  8.33333333,  9.3125    ,\n",
              "        10.29166667, 11.27083333, 12.25      , 13.22916667, 14.20833333,\n",
              "        15.1875    , 16.16666667, 17.14583333, 18.125     , 19.10416667,\n",
              "        20.08333333, 21.0625    , 22.04166667, 23.02083333, 24.        ]),\n",
              " <a list of 24 Patch objects>)"
            ]
          },
          "metadata": {},
          "execution_count": 16
        },
        {
          "output_type": "display_data",
          "data": {
            "image/png": "[encoded data removed]",
            "text/plain": [
              "<Figure size 432x288 with 1 Axes>"
            ]
          },
          "metadata": {
            "needs_background": "light"
          }
        }
      ],
      "metadata": {
        "colab": {
          "base_uri": "https://localhost:8080/"
        },
        "id": "DiKo52Brq5-9",
        "outputId": "8a1c523b-997c-4eae-dbfd-1de87dc24654"
      }
    },
    {
      "cell_type": "markdown",
      "source": [
        "Question 12"
      ],
      "metadata": {
        "id": "-42tVoCMrBfC"
      }
    },
    {
      "cell_type": "code",
      "execution_count": 17,
      "source": [
        "plt.hist(df.weekday, bins = 7, rwidth = 0.8, range = (-.5, 6.5))\n",
        "plt.xticks(np.arange(7), 'Mon Tue Wed Thu Fri Sat Sun'.split())"
      ],
      "outputs": [
        {
          "output_type": "execute_result",
          "data": {
            "text/plain": [
              "([<matplotlib.axis.XTick at 0x7f1bf937f6d0>,\n",
              "  <matplotlib.axis.XTick at 0x7f1bf937f7d0>,\n",
              "  <matplotlib.axis.XTick at 0x7f1bf938fcd0>,\n",
              "  <matplotlib.axis.XTick at 0x7f1bf936ec10>,\n",
              "  <matplotlib.axis.XTick at 0x7f1bf9379110>,\n",
              "  <matplotlib.axis.XTick at 0x7f1bf93796d0>,\n",
              "  <matplotlib.axis.XTick at 0x7f1bf9379c50>],\n",
              " [Text(0, 0, 'Mon'),\n",
              "  Text(0, 0, 'Tue'),\n",
              "  Text(0, 0, 'Wed'),\n",
              "  Text(0, 0, 'Thu'),\n",
              "  Text(0, 0, 'Fri'),\n",
              "  Text(0, 0, 'Sat'),\n",
              "  Text(0, 0, 'Sun')])"
            ]
          },
          "metadata": {},
          "execution_count": 17
        },
        {
          "output_type": "display_data",
          "data": {
            "image/png": "[encoded data removed]",
            "text/plain": [
              "<Figure size 432x288 with 1 Axes>"
            ]
          },
          "metadata": {
            "needs_background": "light"
          }
        }
      ],
      "metadata": {
        "colab": {
          "base_uri": "https://localhost:8080/"
        },
        "id": "yzg9D_rTrCqR",
        "outputId": "cb5c0bf1-d1a4-4271-a70b-bea8719b99cd"
      }
    }
  ]
}