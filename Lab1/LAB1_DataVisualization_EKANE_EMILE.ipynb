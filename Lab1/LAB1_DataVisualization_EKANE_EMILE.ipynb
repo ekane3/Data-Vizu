{
 "metadata": {
  "language_info": {
   "codemirror_mode": {
    "name": "ipython",
    "version": 3
   },
   "file_extension": ".py",
   "mimetype": "text/x-python",
   "name": "python",
   "nbconvert_exporter": "python",
   "pygments_lexer": "ipython3",
   "version": "3.7.9"
  },
  "orig_nbformat": 4,
  "kernelspec": {
   "name": "python3",
   "display_name": "Python 3.7.9 64-bit"
  },
  "interpreter": {
   "hash": "e2fb31f127fed1e79f709faf34890f85681c06e7e30d28a328e5c7500cdf6725"
  }
 },
 "nbformat": 4,
 "nbformat_minor": 2,
 "cells": [
  {
   "cell_type": "markdown",
   "source": [
    "# 🎇DATA VIZ\r\n",
    "\r\n",
    "**EKANE Emile**\r\n"
   ],
   "metadata": {}
  },
  {
   "cell_type": "markdown",
   "source": [
    "# First Part"
   ],
   "metadata": {}
  },
  {
   "cell_type": "code",
   "execution_count": 2,
   "source": [
    "import pandas as pd\r\n",
    "import numpy as np \r\n",
    "import matplotlib.pyplot as plt\r\n",
    "import seaborn as sns"
   ],
   "outputs": [],
   "metadata": {}
  },
  {
   "cell_type": "markdown",
   "source": [
    " ## Data Loading"
   ],
   "metadata": {}
  },
  {
   "cell_type": "code",
   "execution_count": 3,
   "source": [
    "file_path = \"./uber-raw-data-apr14.csv\""
   ],
   "outputs": [],
   "metadata": {}
  },
  {
   "cell_type": "code",
   "execution_count": 4,
   "source": [
    "df = pd.read_csv(file_path)\r\n",
    "df.head(10)"
   ],
   "outputs": [
    {
     "output_type": "execute_result",
     "data": {
      "text/html": [
       "<div>\n",
       "<style scoped>\n",
       "    .dataframe tbody tr th:only-of-type {\n",
       "        vertical-align: middle;\n",
       "    }\n",
       "\n",
       "    .dataframe tbody tr th {\n",
       "        vertical-align: top;\n",
       "    }\n",
       "\n",
       "    .dataframe thead th {\n",
       "        text-align: right;\n",
       "    }\n",
       "</style>\n",
       "<table border=\"1\" class=\"dataframe\">\n",
       "  <thead>\n",
       "    <tr style=\"text-align: right;\">\n",
       "      <th></th>\n",
       "      <th>Date/Time</th>\n",
       "      <th>Lat</th>\n",
       "      <th>Lon</th>\n",
       "      <th>Base</th>\n",
       "    </tr>\n",
       "  </thead>\n",
       "  <tbody>\n",
       "    <tr>\n",
       "      <th>0</th>\n",
       "      <td>4/1/2014 0:11:00</td>\n",
       "      <td>40.7690</td>\n",
       "      <td>-73.9549</td>\n",
       "      <td>B02512</td>\n",
       "    </tr>\n",
       "    <tr>\n",
       "      <th>1</th>\n",
       "      <td>4/1/2014 0:17:00</td>\n",
       "      <td>40.7267</td>\n",
       "      <td>-74.0345</td>\n",
       "      <td>B02512</td>\n",
       "    </tr>\n",
       "    <tr>\n",
       "      <th>2</th>\n",
       "      <td>4/1/2014 0:21:00</td>\n",
       "      <td>40.7316</td>\n",
       "      <td>-73.9873</td>\n",
       "      <td>B02512</td>\n",
       "    </tr>\n",
       "    <tr>\n",
       "      <th>3</th>\n",
       "      <td>4/1/2014 0:28:00</td>\n",
       "      <td>40.7588</td>\n",
       "      <td>-73.9776</td>\n",
       "      <td>B02512</td>\n",
       "    </tr>\n",
       "    <tr>\n",
       "      <th>4</th>\n",
       "      <td>4/1/2014 0:33:00</td>\n",
       "      <td>40.7594</td>\n",
       "      <td>-73.9722</td>\n",
       "      <td>B02512</td>\n",
       "    </tr>\n",
       "    <tr>\n",
       "      <th>5</th>\n",
       "      <td>4/1/2014 0:33:00</td>\n",
       "      <td>40.7383</td>\n",
       "      <td>-74.0403</td>\n",
       "      <td>B02512</td>\n",
       "    </tr>\n",
       "    <tr>\n",
       "      <th>6</th>\n",
       "      <td>4/1/2014 0:39:00</td>\n",
       "      <td>40.7223</td>\n",
       "      <td>-73.9887</td>\n",
       "      <td>B02512</td>\n",
       "    </tr>\n",
       "    <tr>\n",
       "      <th>7</th>\n",
       "      <td>4/1/2014 0:45:00</td>\n",
       "      <td>40.7620</td>\n",
       "      <td>-73.9790</td>\n",
       "      <td>B02512</td>\n",
       "    </tr>\n",
       "    <tr>\n",
       "      <th>8</th>\n",
       "      <td>4/1/2014 0:55:00</td>\n",
       "      <td>40.7524</td>\n",
       "      <td>-73.9960</td>\n",
       "      <td>B02512</td>\n",
       "    </tr>\n",
       "    <tr>\n",
       "      <th>9</th>\n",
       "      <td>4/1/2014 1:01:00</td>\n",
       "      <td>40.7575</td>\n",
       "      <td>-73.9846</td>\n",
       "      <td>B02512</td>\n",
       "    </tr>\n",
       "  </tbody>\n",
       "</table>\n",
       "</div>"
      ],
      "text/plain": [
       "          Date/Time      Lat      Lon    Base\n",
       "0  4/1/2014 0:11:00  40.7690 -73.9549  B02512\n",
       "1  4/1/2014 0:17:00  40.7267 -74.0345  B02512\n",
       "2  4/1/2014 0:21:00  40.7316 -73.9873  B02512\n",
       "3  4/1/2014 0:28:00  40.7588 -73.9776  B02512\n",
       "4  4/1/2014 0:33:00  40.7594 -73.9722  B02512\n",
       "5  4/1/2014 0:33:00  40.7383 -74.0403  B02512\n",
       "6  4/1/2014 0:39:00  40.7223 -73.9887  B02512\n",
       "7  4/1/2014 0:45:00  40.7620 -73.9790  B02512\n",
       "8  4/1/2014 0:55:00  40.7524 -73.9960  B02512\n",
       "9  4/1/2014 1:01:00  40.7575 -73.9846  B02512"
      ]
     },
     "metadata": {},
     "execution_count": 4
    }
   ],
   "metadata": {}
  },
  {
   "cell_type": "markdown",
   "source": [
    "## Data Transformation"
   ],
   "metadata": {}
  },
  {
   "cell_type": "code",
   "execution_count": 5,
   "source": [
    "df.dtypes"
   ],
   "outputs": [
    {
     "output_type": "execute_result",
     "data": {
      "text/plain": [
       "Date/Time     object\n",
       "Lat          float64\n",
       "Lon          float64\n",
       "Base          object\n",
       "dtype: object"
      ]
     },
     "metadata": {},
     "execution_count": 5
    }
   ],
   "metadata": {}
  },
  {
   "cell_type": "markdown",
   "source": [
    "#### Transform column date/time datas to datetime"
   ],
   "metadata": {}
  },
  {
   "cell_type": "code",
   "execution_count": 6,
   "source": [
    "df['Date/Time'] = pd.to_datetime(df['Date/Time'])"
   ],
   "outputs": [],
   "metadata": {}
  },
  {
   "cell_type": "code",
   "execution_count": 7,
   "source": [
    "#To check if the column has been transformed to datetime\r\n",
    "df.dtypes"
   ],
   "outputs": [
    {
     "output_type": "execute_result",
     "data": {
      "text/plain": [
       "Date/Time    datetime64[ns]\n",
       "Lat                 float64\n",
       "Lon                 float64\n",
       "Base                 object\n",
       "dtype: object"
      ]
     },
     "metadata": {},
     "execution_count": 7
    }
   ],
   "metadata": {}
  },
  {
   "cell_type": "markdown",
   "source": [
    "#### Creating functions"
   ],
   "metadata": {}
  },
  {
   "cell_type": "code",
   "execution_count": 8,
   "source": [
    "#Get day of month \r\n",
    "def get_dom(dt):\r\n",
    "    return dt.day\r\n",
    "df['dom'] = df['Date/Time'].map(get_dom)"
   ],
   "outputs": [],
   "metadata": {}
  },
  {
   "cell_type": "code",
   "execution_count": 9,
   "source": [
    "#Get weekday and hours\r\n",
    "def get_weekday(dt):\r\n",
    "    return dt.weekday()\r\n",
    "df['weekday'] = df['Date/Time'].map(get_weekday)\r\n",
    "def get_hour(dt):\r\n",
    "    return dt.hour\r\n",
    "df['hour'] = df['Date/Time'].map(get_hour)\r\n",
    "#df.tail(30)"
   ],
   "outputs": [],
   "metadata": {}
  },
  {
   "cell_type": "code",
   "execution_count": 10,
   "source": [
    "#Analyse the day of month\r\n",
    "df['day'] = df['Date/Time'].map(get_dom)\r\n",
    "df.head()"
   ],
   "outputs": [
    {
     "output_type": "execute_result",
     "data": {
      "text/html": [
       "<div>\n",
       "<style scoped>\n",
       "    .dataframe tbody tr th:only-of-type {\n",
       "        vertical-align: middle;\n",
       "    }\n",
       "\n",
       "    .dataframe tbody tr th {\n",
       "        vertical-align: top;\n",
       "    }\n",
       "\n",
       "    .dataframe thead th {\n",
       "        text-align: right;\n",
       "    }\n",
       "</style>\n",
       "<table border=\"1\" class=\"dataframe\">\n",
       "  <thead>\n",
       "    <tr style=\"text-align: right;\">\n",
       "      <th></th>\n",
       "      <th>Date/Time</th>\n",
       "      <th>Lat</th>\n",
       "      <th>Lon</th>\n",
       "      <th>Base</th>\n",
       "      <th>dom</th>\n",
       "      <th>weekday</th>\n",
       "      <th>hour</th>\n",
       "      <th>day</th>\n",
       "    </tr>\n",
       "  </thead>\n",
       "  <tbody>\n",
       "    <tr>\n",
       "      <th>0</th>\n",
       "      <td>2014-04-01 00:11:00</td>\n",
       "      <td>40.7690</td>\n",
       "      <td>-73.9549</td>\n",
       "      <td>B02512</td>\n",
       "      <td>1</td>\n",
       "      <td>1</td>\n",
       "      <td>0</td>\n",
       "      <td>1</td>\n",
       "    </tr>\n",
       "    <tr>\n",
       "      <th>1</th>\n",
       "      <td>2014-04-01 00:17:00</td>\n",
       "      <td>40.7267</td>\n",
       "      <td>-74.0345</td>\n",
       "      <td>B02512</td>\n",
       "      <td>1</td>\n",
       "      <td>1</td>\n",
       "      <td>0</td>\n",
       "      <td>1</td>\n",
       "    </tr>\n",
       "    <tr>\n",
       "      <th>2</th>\n",
       "      <td>2014-04-01 00:21:00</td>\n",
       "      <td>40.7316</td>\n",
       "      <td>-73.9873</td>\n",
       "      <td>B02512</td>\n",
       "      <td>1</td>\n",
       "      <td>1</td>\n",
       "      <td>0</td>\n",
       "      <td>1</td>\n",
       "    </tr>\n",
       "    <tr>\n",
       "      <th>3</th>\n",
       "      <td>2014-04-01 00:28:00</td>\n",
       "      <td>40.7588</td>\n",
       "      <td>-73.9776</td>\n",
       "      <td>B02512</td>\n",
       "      <td>1</td>\n",
       "      <td>1</td>\n",
       "      <td>0</td>\n",
       "      <td>1</td>\n",
       "    </tr>\n",
       "    <tr>\n",
       "      <th>4</th>\n",
       "      <td>2014-04-01 00:33:00</td>\n",
       "      <td>40.7594</td>\n",
       "      <td>-73.9722</td>\n",
       "      <td>B02512</td>\n",
       "      <td>1</td>\n",
       "      <td>1</td>\n",
       "      <td>0</td>\n",
       "      <td>1</td>\n",
       "    </tr>\n",
       "  </tbody>\n",
       "</table>\n",
       "</div>"
      ],
      "text/plain": [
       "            Date/Time      Lat      Lon    Base  dom  weekday  hour  day\n",
       "0 2014-04-01 00:11:00  40.7690 -73.9549  B02512    1        1     0    1\n",
       "1 2014-04-01 00:17:00  40.7267 -74.0345  B02512    1        1     0    1\n",
       "2 2014-04-01 00:21:00  40.7316 -73.9873  B02512    1        1     0    1\n",
       "3 2014-04-01 00:28:00  40.7588 -73.9776  B02512    1        1     0    1\n",
       "4 2014-04-01 00:33:00  40.7594 -73.9722  B02512    1        1     0    1"
      ]
     },
     "metadata": {},
     "execution_count": 10
    }
   ],
   "metadata": {}
  },
  {
   "cell_type": "markdown",
   "source": [
    "## Visual representation"
   ],
   "metadata": {}
  },
  {
   "cell_type": "code",
   "execution_count": 11,
   "source": [
    "#Creating histogram , adding title, x and y labels\r\n",
    "df.plot(kind='hist',bins = 30, rwidth=0.8, range=(0.5,30.5), title='Frequency by DoM - Uber - April 2014')\r\n",
    "plt.xlabel('The Date of the month')\r\n",
    "plt.ylabel('Frequency')"
   ],
   "outputs": [
    {
     "output_type": "execute_result",
     "data": {
      "text/plain": [
       "Text(0, 0.5, 'Frequency')"
      ]
     },
     "metadata": {},
     "execution_count": 11
    },
    {
     "output_type": "display_data",
     "data": {
      "image/png": "[encoded data removed]",
      "text/plain": [
       "<Figure size 432x288 with 1 Axes>"
      ]
     },
     "metadata": {
      "needs_background": "light"
     }
    }
   ],
   "metadata": {}
  },
  {
   "cell_type": "code",
   "execution_count": 12,
   "source": [
    "df['dom'].plot.hist(bins = 30, rwidth=0.8, range=(0.5,30.5), figsize = (30,15) ,fontsize=15, title = \"Frequency by DoM - Uber - April 2014\")"
   ],
   "outputs": [
    {
     "output_type": "execute_result",
     "data": {
      "text/plain": [
       "<AxesSubplot:title={'center':'Frequency by DoM - Uber - April 2014'}, ylabel='Frequency'>"
      ]
     },
     "metadata": {},
     "execution_count": 12
    },
    {
     "output_type": "display_data",
     "data": {
      "image/png": "[encoded data removed]",
      "text/plain": [
       "<Figure size 2160x1080 with 1 Axes>"
      ]
     },
     "metadata": {
      "needs_background": "light"
     }
    }
   ],
   "metadata": {}
  },
  {
   "cell_type": "code",
   "execution_count": 13,
   "source": [
    "#Create function for grouping data by date of month\r\n",
    "def count_rows(rows):\r\n",
    "    return len(rows)\r\n",
    "day_by_date = df.groupby('day').apply(count_rows)\r\n",
    "day_by_date\r\n"
   ],
   "outputs": [
    {
     "output_type": "execute_result",
     "data": {
      "text/plain": [
       "day\n",
       "1     14546\n",
       "2     17474\n",
       "3     20701\n",
       "4     26714\n",
       "5     19521\n",
       "6     13445\n",
       "7     19550\n",
       "8     16188\n",
       "9     16843\n",
       "10    20041\n",
       "11    20420\n",
       "12    18170\n",
       "13    12112\n",
       "14    12674\n",
       "15    20641\n",
       "16    17717\n",
       "17    20973\n",
       "18    18074\n",
       "19    14602\n",
       "20    11017\n",
       "21    13162\n",
       "22    16975\n",
       "23    20346\n",
       "24    23352\n",
       "25    25095\n",
       "26    24925\n",
       "27    14677\n",
       "28    15475\n",
       "29    22835\n",
       "30    36251\n",
       "dtype: int64"
      ]
     },
     "metadata": {},
     "execution_count": 13
    }
   ],
   "metadata": {}
  },
  {
   "cell_type": "code",
   "execution_count": 14,
   "source": [
    "#ploting the data day_by_date using plot and bar function\r\n",
    "plt.plot(day_by_date)"
   ],
   "outputs": [
    {
     "output_type": "execute_result",
     "data": {
      "text/plain": [
       "[<matplotlib.lines.Line2D at 0x26c4be421c8>]"
      ]
     },
     "metadata": {},
     "execution_count": 14
    },
    {
     "output_type": "display_data",
     "data": {
      "image/png": "[encoded data removed]",
      "text/plain": [
       "<Figure size 432x288 with 1 Axes>"
      ]
     },
     "metadata": {
      "needs_background": "light"
     }
    }
   ],
   "metadata": {}
  },
  {
   "cell_type": "code",
   "execution_count": 15,
   "source": [
    "#Sort data by date \r\n",
    "df_sorted = df.sort_values(by=['day'])\r\n",
    "df_sorted"
   ],
   "outputs": [
    {
     "output_type": "execute_result",
     "data": {
      "text/html": [
       "<div>\n",
       "<style scoped>\n",
       "    .dataframe tbody tr th:only-of-type {\n",
       "        vertical-align: middle;\n",
       "    }\n",
       "\n",
       "    .dataframe tbody tr th {\n",
       "        vertical-align: top;\n",
       "    }\n",
       "\n",
       "    .dataframe thead th {\n",
       "        text-align: right;\n",
       "    }\n",
       "</style>\n",
       "<table border=\"1\" class=\"dataframe\">\n",
       "  <thead>\n",
       "    <tr style=\"text-align: right;\">\n",
       "      <th></th>\n",
       "      <th>Date/Time</th>\n",
       "      <th>Lat</th>\n",
       "      <th>Lon</th>\n",
       "      <th>Base</th>\n",
       "      <th>dom</th>\n",
       "      <th>weekday</th>\n",
       "      <th>hour</th>\n",
       "      <th>day</th>\n",
       "    </tr>\n",
       "  </thead>\n",
       "  <tbody>\n",
       "    <tr>\n",
       "      <th>0</th>\n",
       "      <td>2014-04-01 00:11:00</td>\n",
       "      <td>40.7690</td>\n",
       "      <td>-73.9549</td>\n",
       "      <td>B02512</td>\n",
       "      <td>1</td>\n",
       "      <td>1</td>\n",
       "      <td>0</td>\n",
       "      <td>1</td>\n",
       "    </tr>\n",
       "    <tr>\n",
       "      <th>219255</th>\n",
       "      <td>2014-04-01 07:24:00</td>\n",
       "      <td>40.7410</td>\n",
       "      <td>-73.9977</td>\n",
       "      <td>B02617</td>\n",
       "      <td>1</td>\n",
       "      <td>1</td>\n",
       "      <td>7</td>\n",
       "      <td>1</td>\n",
       "    </tr>\n",
       "    <tr>\n",
       "      <th>219254</th>\n",
       "      <td>2014-04-01 07:24:00</td>\n",
       "      <td>40.6883</td>\n",
       "      <td>-73.9595</td>\n",
       "      <td>B02617</td>\n",
       "      <td>1</td>\n",
       "      <td>1</td>\n",
       "      <td>7</td>\n",
       "      <td>1</td>\n",
       "    </tr>\n",
       "    <tr>\n",
       "      <th>219253</th>\n",
       "      <td>2014-04-01 07:22:00</td>\n",
       "      <td>40.7127</td>\n",
       "      <td>-73.9659</td>\n",
       "      <td>B02617</td>\n",
       "      <td>1</td>\n",
       "      <td>1</td>\n",
       "      <td>7</td>\n",
       "      <td>1</td>\n",
       "    </tr>\n",
       "    <tr>\n",
       "      <th>219252</th>\n",
       "      <td>2014-04-01 07:22:00</td>\n",
       "      <td>40.7350</td>\n",
       "      <td>-74.0026</td>\n",
       "      <td>B02617</td>\n",
       "      <td>1</td>\n",
       "      <td>1</td>\n",
       "      <td>7</td>\n",
       "      <td>1</td>\n",
       "    </tr>\n",
       "    <tr>\n",
       "      <th>...</th>\n",
       "      <td>...</td>\n",
       "      <td>...</td>\n",
       "      <td>...</td>\n",
       "      <td>...</td>\n",
       "      <td>...</td>\n",
       "      <td>...</td>\n",
       "      <td>...</td>\n",
       "      <td>...</td>\n",
       "    </tr>\n",
       "    <tr>\n",
       "      <th>324305</th>\n",
       "      <td>2014-04-30 17:58:00</td>\n",
       "      <td>40.6853</td>\n",
       "      <td>-73.9591</td>\n",
       "      <td>B02617</td>\n",
       "      <td>30</td>\n",
       "      <td>2</td>\n",
       "      <td>17</td>\n",
       "      <td>30</td>\n",
       "    </tr>\n",
       "    <tr>\n",
       "      <th>324304</th>\n",
       "      <td>2014-04-30 17:58:00</td>\n",
       "      <td>40.7542</td>\n",
       "      <td>-73.9671</td>\n",
       "      <td>B02617</td>\n",
       "      <td>30</td>\n",
       "      <td>2</td>\n",
       "      <td>17</td>\n",
       "      <td>30</td>\n",
       "    </tr>\n",
       "    <tr>\n",
       "      <th>324303</th>\n",
       "      <td>2014-04-30 17:58:00</td>\n",
       "      <td>40.7504</td>\n",
       "      <td>-73.9844</td>\n",
       "      <td>B02617</td>\n",
       "      <td>30</td>\n",
       "      <td>2</td>\n",
       "      <td>17</td>\n",
       "      <td>30</td>\n",
       "    </tr>\n",
       "    <tr>\n",
       "      <th>324310</th>\n",
       "      <td>2014-04-30 17:58:00</td>\n",
       "      <td>40.7398</td>\n",
       "      <td>-73.9909</td>\n",
       "      <td>B02617</td>\n",
       "      <td>30</td>\n",
       "      <td>2</td>\n",
       "      <td>17</td>\n",
       "      <td>30</td>\n",
       "    </tr>\n",
       "    <tr>\n",
       "      <th>564515</th>\n",
       "      <td>2014-04-30 23:48:00</td>\n",
       "      <td>40.6880</td>\n",
       "      <td>-73.9608</td>\n",
       "      <td>B02764</td>\n",
       "      <td>30</td>\n",
       "      <td>2</td>\n",
       "      <td>23</td>\n",
       "      <td>30</td>\n",
       "    </tr>\n",
       "  </tbody>\n",
       "</table>\n",
       "<p>564516 rows × 8 columns</p>\n",
       "</div>"
      ],
      "text/plain": [
       "                 Date/Time      Lat      Lon    Base  dom  weekday  hour  day\n",
       "0      2014-04-01 00:11:00  40.7690 -73.9549  B02512    1        1     0    1\n",
       "219255 2014-04-01 07:24:00  40.7410 -73.9977  B02617    1        1     7    1\n",
       "219254 2014-04-01 07:24:00  40.6883 -73.9595  B02617    1        1     7    1\n",
       "219253 2014-04-01 07:22:00  40.7127 -73.9659  B02617    1        1     7    1\n",
       "219252 2014-04-01 07:22:00  40.7350 -74.0026  B02617    1        1     7    1\n",
       "...                    ...      ...      ...     ...  ...      ...   ...  ...\n",
       "324305 2014-04-30 17:58:00  40.6853 -73.9591  B02617   30        2    17   30\n",
       "324304 2014-04-30 17:58:00  40.7542 -73.9671  B02617   30        2    17   30\n",
       "324303 2014-04-30 17:58:00  40.7504 -73.9844  B02617   30        2    17   30\n",
       "324310 2014-04-30 17:58:00  40.7398 -73.9909  B02617   30        2    17   30\n",
       "564515 2014-04-30 23:48:00  40.6880 -73.9608  B02764   30        2    23   30\n",
       "\n",
       "[564516 rows x 8 columns]"
      ]
     },
     "metadata": {},
     "execution_count": 15
    }
   ],
   "metadata": {}
  },
  {
   "cell_type": "code",
   "execution_count": 16,
   "source": [
    "#plot the sorted data by date using bar function\r\n",
    "plt.bar(range(1, 31),day_by_date.sort_values())"
   ],
   "outputs": [
    {
     "output_type": "execute_result",
     "data": {
      "text/plain": [
       "<BarContainer object of 30 artists>"
      ]
     },
     "metadata": {},
     "execution_count": 16
    },
    {
     "output_type": "display_data",
     "data": {
      "image/png": "[encoded data removed]",
      "text/plain": [
       "<Figure size 432x288 with 1 Axes>"
      ]
     },
     "metadata": {
      "needs_background": "light"
     }
    }
   ],
   "metadata": {}
  },
  {
   "cell_type": "code",
   "execution_count": 17,
   "source": [
    "#Visualise the data by hours using histogram\r\n",
    "plt.hist(df.hour, bins=24 , range=(0.5,24) )"
   ],
   "outputs": [
    {
     "output_type": "execute_result",
     "data": {
      "text/plain": [
       "(array([ 7769.,  4935.,  5040.,  6095.,  9476., 18498., 24924., 22843.,\n",
       "        17939., 17865., 18774., 19425., 22603., 27190., 35324., 42003.,\n",
       "        45475., 43003., 38923., 36244., 36964., 30645., 20649.,     0.]),\n",
       " array([ 0.5       ,  1.47916667,  2.45833333,  3.4375    ,  4.41666667,\n",
       "         5.39583333,  6.375     ,  7.35416667,  8.33333333,  9.3125    ,\n",
       "        10.29166667, 11.27083333, 12.25      , 13.22916667, 14.20833333,\n",
       "        15.1875    , 16.16666667, 17.14583333, 18.125     , 19.10416667,\n",
       "        20.08333333, 21.0625    , 22.04166667, 23.02083333, 24.        ]),\n",
       " <BarContainer object of 24 artists>)"
      ]
     },
     "metadata": {},
     "execution_count": 17
    },
    {
     "output_type": "display_data",
     "data": {
      "image/png": "[encoded data removed]",
      "text/plain": [
       "<Figure size 432x288 with 1 Axes>"
      ]
     },
     "metadata": {
      "needs_background": "light"
     }
    }
   ],
   "metadata": {}
  },
  {
   "cell_type": "code",
   "execution_count": 18,
   "source": [
    "#Visualize the data by weekday using histogram\r\n",
    "plt.hist(df.weekday, bins=7,range = (-.5,6.5), rwidth=0.8 )\r\n",
    "plt.xticks(np.arange(7), 'Mon Tue Wed Thu Fri Sat Sun'.split(),rotation='vertical')\r\n",
    "# Pad margins so that markers don't get clipped by the axes\r\n",
    "plt.margins(0.2) "
   ],
   "outputs": [
    {
     "output_type": "display_data",
     "data": {
      "image/png": "[encoded data removed]",
      "text/plain": [
       "<Figure size 432x288 with 1 Axes>"
      ]
     },
     "metadata": {
      "needs_background": "light"
     }
    }
   ],
   "metadata": {}
  },
  {
   "cell_type": "markdown",
   "source": [
    "## Cross Analysis"
   ],
   "metadata": {}
  },
  {
   "cell_type": "code",
   "execution_count": 19,
   "source": [
    "#Group data by weekday an hour using .apply(count_rows).unstack()\r\n",
    "data_by_weekday = df.groupby(['weekday','hour']).apply(count_rows).unstack()\r\n",
    "data_by_weekday.head(30)"
   ],
   "outputs": [
    {
     "output_type": "execute_result",
     "data": {
      "text/html": [
       "<div>\n",
       "<style scoped>\n",
       "    .dataframe tbody tr th:only-of-type {\n",
       "        vertical-align: middle;\n",
       "    }\n",
       "\n",
       "    .dataframe tbody tr th {\n",
       "        vertical-align: top;\n",
       "    }\n",
       "\n",
       "    .dataframe thead th {\n",
       "        text-align: right;\n",
       "    }\n",
       "</style>\n",
       "<table border=\"1\" class=\"dataframe\">\n",
       "  <thead>\n",
       "    <tr style=\"text-align: right;\">\n",
       "      <th>hour</th>\n",
       "      <th>0</th>\n",
       "      <th>1</th>\n",
       "      <th>2</th>\n",
       "      <th>3</th>\n",
       "      <th>4</th>\n",
       "      <th>5</th>\n",
       "      <th>6</th>\n",
       "      <th>7</th>\n",
       "      <th>8</th>\n",
       "      <th>9</th>\n",
       "      <th>...</th>\n",
       "      <th>14</th>\n",
       "      <th>15</th>\n",
       "      <th>16</th>\n",
       "      <th>17</th>\n",
       "      <th>18</th>\n",
       "      <th>19</th>\n",
       "      <th>20</th>\n",
       "      <th>21</th>\n",
       "      <th>22</th>\n",
       "      <th>23</th>\n",
       "    </tr>\n",
       "    <tr>\n",
       "      <th>weekday</th>\n",
       "      <th></th>\n",
       "      <th></th>\n",
       "      <th></th>\n",
       "      <th></th>\n",
       "      <th></th>\n",
       "      <th></th>\n",
       "      <th></th>\n",
       "      <th></th>\n",
       "      <th></th>\n",
       "      <th></th>\n",
       "      <th></th>\n",
       "      <th></th>\n",
       "      <th></th>\n",
       "      <th></th>\n",
       "      <th></th>\n",
       "      <th></th>\n",
       "      <th></th>\n",
       "      <th></th>\n",
       "      <th></th>\n",
       "      <th></th>\n",
       "      <th></th>\n",
       "    </tr>\n",
       "  </thead>\n",
       "  <tbody>\n",
       "    <tr>\n",
       "      <th>0</th>\n",
       "      <td>518</td>\n",
       "      <td>261</td>\n",
       "      <td>238</td>\n",
       "      <td>571</td>\n",
       "      <td>1021</td>\n",
       "      <td>1619</td>\n",
       "      <td>2974</td>\n",
       "      <td>3888</td>\n",
       "      <td>3138</td>\n",
       "      <td>2211</td>\n",
       "      <td>...</td>\n",
       "      <td>3117</td>\n",
       "      <td>3818</td>\n",
       "      <td>4962</td>\n",
       "      <td>5574</td>\n",
       "      <td>4725</td>\n",
       "      <td>4386</td>\n",
       "      <td>3573</td>\n",
       "      <td>3079</td>\n",
       "      <td>1976</td>\n",
       "      <td>1091</td>\n",
       "    </tr>\n",
       "    <tr>\n",
       "      <th>1</th>\n",
       "      <td>765</td>\n",
       "      <td>367</td>\n",
       "      <td>304</td>\n",
       "      <td>516</td>\n",
       "      <td>887</td>\n",
       "      <td>1734</td>\n",
       "      <td>3766</td>\n",
       "      <td>5304</td>\n",
       "      <td>4594</td>\n",
       "      <td>2962</td>\n",
       "      <td>...</td>\n",
       "      <td>4489</td>\n",
       "      <td>6042</td>\n",
       "      <td>7521</td>\n",
       "      <td>8297</td>\n",
       "      <td>7089</td>\n",
       "      <td>6459</td>\n",
       "      <td>6310</td>\n",
       "      <td>5993</td>\n",
       "      <td>3614</td>\n",
       "      <td>1948</td>\n",
       "    </tr>\n",
       "    <tr>\n",
       "      <th>2</th>\n",
       "      <td>899</td>\n",
       "      <td>507</td>\n",
       "      <td>371</td>\n",
       "      <td>585</td>\n",
       "      <td>1003</td>\n",
       "      <td>1990</td>\n",
       "      <td>4230</td>\n",
       "      <td>5647</td>\n",
       "      <td>5242</td>\n",
       "      <td>3846</td>\n",
       "      <td>...</td>\n",
       "      <td>5438</td>\n",
       "      <td>7071</td>\n",
       "      <td>8213</td>\n",
       "      <td>9151</td>\n",
       "      <td>8334</td>\n",
       "      <td>7794</td>\n",
       "      <td>7783</td>\n",
       "      <td>6921</td>\n",
       "      <td>4845</td>\n",
       "      <td>2571</td>\n",
       "    </tr>\n",
       "    <tr>\n",
       "      <th>3</th>\n",
       "      <td>792</td>\n",
       "      <td>459</td>\n",
       "      <td>342</td>\n",
       "      <td>567</td>\n",
       "      <td>861</td>\n",
       "      <td>1454</td>\n",
       "      <td>3179</td>\n",
       "      <td>4159</td>\n",
       "      <td>3616</td>\n",
       "      <td>2654</td>\n",
       "      <td>...</td>\n",
       "      <td>4083</td>\n",
       "      <td>5182</td>\n",
       "      <td>6149</td>\n",
       "      <td>6951</td>\n",
       "      <td>6637</td>\n",
       "      <td>5929</td>\n",
       "      <td>6345</td>\n",
       "      <td>6585</td>\n",
       "      <td>5370</td>\n",
       "      <td>2909</td>\n",
       "    </tr>\n",
       "    <tr>\n",
       "      <th>4</th>\n",
       "      <td>1367</td>\n",
       "      <td>760</td>\n",
       "      <td>513</td>\n",
       "      <td>736</td>\n",
       "      <td>932</td>\n",
       "      <td>1382</td>\n",
       "      <td>2836</td>\n",
       "      <td>3943</td>\n",
       "      <td>3648</td>\n",
       "      <td>2732</td>\n",
       "      <td>...</td>\n",
       "      <td>4087</td>\n",
       "      <td>5354</td>\n",
       "      <td>6259</td>\n",
       "      <td>6790</td>\n",
       "      <td>7258</td>\n",
       "      <td>6247</td>\n",
       "      <td>5165</td>\n",
       "      <td>6265</td>\n",
       "      <td>6708</td>\n",
       "      <td>5393</td>\n",
       "    </tr>\n",
       "    <tr>\n",
       "      <th>5</th>\n",
       "      <td>3027</td>\n",
       "      <td>2479</td>\n",
       "      <td>1577</td>\n",
       "      <td>1013</td>\n",
       "      <td>706</td>\n",
       "      <td>704</td>\n",
       "      <td>844</td>\n",
       "      <td>1110</td>\n",
       "      <td>1372</td>\n",
       "      <td>1764</td>\n",
       "      <td>...</td>\n",
       "      <td>3042</td>\n",
       "      <td>4457</td>\n",
       "      <td>5410</td>\n",
       "      <td>5558</td>\n",
       "      <td>6165</td>\n",
       "      <td>5529</td>\n",
       "      <td>4792</td>\n",
       "      <td>5811</td>\n",
       "      <td>6493</td>\n",
       "      <td>5719</td>\n",
       "    </tr>\n",
       "    <tr>\n",
       "      <th>6</th>\n",
       "      <td>4542</td>\n",
       "      <td>2936</td>\n",
       "      <td>1590</td>\n",
       "      <td>1052</td>\n",
       "      <td>685</td>\n",
       "      <td>593</td>\n",
       "      <td>669</td>\n",
       "      <td>873</td>\n",
       "      <td>1233</td>\n",
       "      <td>1770</td>\n",
       "      <td>...</td>\n",
       "      <td>2934</td>\n",
       "      <td>3400</td>\n",
       "      <td>3489</td>\n",
       "      <td>3154</td>\n",
       "      <td>2795</td>\n",
       "      <td>2579</td>\n",
       "      <td>2276</td>\n",
       "      <td>2310</td>\n",
       "      <td>1639</td>\n",
       "      <td>1018</td>\n",
       "    </tr>\n",
       "  </tbody>\n",
       "</table>\n",
       "<p>7 rows × 24 columns</p>\n",
       "</div>"
      ],
      "text/plain": [
       "hour       0     1     2     3     4     5     6     7     8     9   ...  \\\n",
       "weekday                                                              ...   \n",
       "0         518   261   238   571  1021  1619  2974  3888  3138  2211  ...   \n",
       "1         765   367   304   516   887  1734  3766  5304  4594  2962  ...   \n",
       "2         899   507   371   585  1003  1990  4230  5647  5242  3846  ...   \n",
       "3         792   459   342   567   861  1454  3179  4159  3616  2654  ...   \n",
       "4        1367   760   513   736   932  1382  2836  3943  3648  2732  ...   \n",
       "5        3027  2479  1577  1013   706   704   844  1110  1372  1764  ...   \n",
       "6        4542  2936  1590  1052   685   593   669   873  1233  1770  ...   \n",
       "\n",
       "hour       14    15    16    17    18    19    20    21    22    23  \n",
       "weekday                                                              \n",
       "0        3117  3818  4962  5574  4725  4386  3573  3079  1976  1091  \n",
       "1        4489  6042  7521  8297  7089  6459  6310  5993  3614  1948  \n",
       "2        5438  7071  8213  9151  8334  7794  7783  6921  4845  2571  \n",
       "3        4083  5182  6149  6951  6637  5929  6345  6585  5370  2909  \n",
       "4        4087  5354  6259  6790  7258  6247  5165  6265  6708  5393  \n",
       "5        3042  4457  5410  5558  6165  5529  4792  5811  6493  5719  \n",
       "6        2934  3400  3489  3154  2795  2579  2276  2310  1639  1018  \n",
       "\n",
       "[7 rows x 24 columns]"
      ]
     },
     "metadata": {},
     "execution_count": 19
    }
   ],
   "metadata": {}
  },
  {
   "cell_type": "code",
   "execution_count": 20,
   "source": [
    "#Create Heatmap using seaborn for the grouped data\r\n",
    "sns.heatmap(data_by_weekday)"
   ],
   "outputs": [
    {
     "output_type": "execute_result",
     "data": {
      "text/plain": [
       "<AxesSubplot:xlabel='hour', ylabel='weekday'>"
      ]
     },
     "metadata": {},
     "execution_count": 20
    },
    {
     "output_type": "display_data",
     "data": {
      "image/png": "[encoded data removed]",
      "text/plain": [
       "<Figure size 432x288 with 2 Axes>"
      ]
     },
     "metadata": {
      "needs_background": "light"
     }
    }
   ],
   "metadata": {}
  },
  {
   "cell_type": "code",
   "execution_count": 21,
   "source": [
    "#analyse lat and long data\r\n",
    "df['Lat'].plot(kind='hist', bins = 40, rwidth=0.8,range =(40.5,41) )"
   ],
   "outputs": [
    {
     "output_type": "execute_result",
     "data": {
      "text/plain": [
       "<AxesSubplot:ylabel='Frequency'>"
      ]
     },
     "metadata": {},
     "execution_count": 21
    },
    {
     "output_type": "display_data",
     "data": {
      "image/png": "[encoded data removed]",
      "text/plain": [
       "<Figure size 432x288 with 1 Axes>"
      ]
     },
     "metadata": {
      "needs_background": "light"
     }
    }
   ],
   "metadata": {}
  },
  {
   "cell_type": "code",
   "execution_count": 22,
   "source": [
    "df['Lat'].plot(kind='hist', bins = 40, rwidth=0.8,range =(-74.05,72.1) )"
   ],
   "outputs": [
    {
     "output_type": "execute_result",
     "data": {
      "text/plain": [
       "<AxesSubplot:ylabel='Frequency'>"
      ]
     },
     "metadata": {},
     "execution_count": 22
    },
    {
     "output_type": "display_data",
     "data": {
      "image/png": "[encoded data removed]",
      "text/plain": [
       "<Figure size 432x288 with 1 Axes>"
      ]
     },
     "metadata": {
      "needs_background": "light"
     }
    }
   ],
   "metadata": {}
  },
  {
   "cell_type": "code",
   "execution_count": 23,
   "source": [
    "#Merge the 2 histograms lat and long using twiny()\r\n"
   ],
   "outputs": [],
   "metadata": {}
  },
  {
   "cell_type": "code",
   "execution_count": 24,
   "source": [
    "#Plt the dots for lat and long ,figsize(20,20)"
   ],
   "outputs": [],
   "metadata": {}
  },
  {
   "cell_type": "code",
   "execution_count": 25,
   "source": [
    "file_path = \"./ny-trips-data.csv\"\r\n",
    "df = pd.read_csv(file_path)\r\n",
    "df.dtypes QeP45czVmu"
   ],
   "outputs": [
    {
     "output_type": "execute_result",
     "data": {
      "text/plain": [
       "VendorID                   int64\n",
       "tpep_pickup_datetime      object\n",
       "tpep_dropoff_datetime     object\n",
       "passenger_count            int64\n",
       "trip_distance            float64\n",
       "pickup_longitude         float64\n",
       "pickup_latitude          float64\n",
       "dropoff_longitude        float64\n",
       "dropoff_latitude         float64\n",
       "fare_amount              float64\n",
       "tip_amount               float64\n",
       "total_amount             float64\n",
       "dtype: object"
      ]
     },
     "metadata": {},
     "execution_count": 25
    }
   ],
   "metadata": {}
  },
  {
   "cell_type": "markdown",
   "source": [],
   "metadata": {}
  }
 ]
}